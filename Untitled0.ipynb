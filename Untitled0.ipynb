{
  "cells": [
    {
      "cell_type": "code",
      "execution_count": 11,
      "metadata": {
        "colab": {
          "base_uri": "https://localhost:8080/"
        },
        "id": "ej8JfhWNDbiC",
        "outputId": "41f34c4f-9df6-4dcb-ca84-c038fdbc3be1"
      },
      "outputs": [
        {
          "name": "stdout",
          "output_type": "stream",
          "text": [
            "2.8.0\n"
          ]
        }
      ],
      "source": [
        "import tensorflow as tf\n",
        "from tensorflow.keras.models import Sequential\n",
        "from tensorflow.keras.layers import Dense\n",
        "import matplotlib.pyplot as plt\n",
        "import pandas as pd\n",
        "import numpy as np\n",
        "print(tf.__version__) #version should be at least 1.15.x"
      ]
    },
    {
      "cell_type": "code",
      "execution_count": 12,
      "metadata": {
        "colab": {
          "base_uri": "https://localhost:8080/"
        },
        "id": "fgjYSH47Dgqw",
        "outputId": "549b35bb-0d02-430a-a288-d630eb5bb130"
      },
      "outputs": [
        {
          "name": "stdout",
          "output_type": "stream",
          "text": [
            "[[ 3.4   0.6  15.    0.8  15.    3.3   0.85  2.    0.8  25.    1.1   0.35\n",
            "   5.    0.85 22.    3.4   0.75  2.5   0.5  24.   25.    3.  ]\n",
            " [ 3.4   0.6  15.    0.8  15.    3.3   0.85  2.    0.8  25.    1.1   0.35\n",
            "   5.    0.85 22.    3.4   0.75  2.5   0.5  24.   15.   13.  ]\n",
            " [ 2.7   0.45 12.    0.95 12.    2.1   0.6   2.    0.75 15.    1.7   0.3\n",
            "   7.    0.8  16.    1.8   0.6   2.5   0.5  10.   15.    5.  ]\n",
            " [ 2.7   0.45 12.    0.95 12.    2.1   0.6   2.    0.75 15.    1.7   0.3\n",
            "   7.    0.8  16.    1.8   0.6   2.5   0.5  10.   12.   20.  ]\n",
            " [ 1.1   0.6  10.    0.9   6.    1.4   0.7   2.    0.9   8.    0.7   0.4\n",
            "   5.    0.85 12.    1.4   0.6   4.5   0.65 22.   15.   20.  ]\n",
            " [ 1.1   0.6  10.    0.9   6.    1.4   0.7   2.    0.9   8.    0.7   0.4\n",
            "   5.    0.85 12.    1.4   0.6   4.5   0.65 22.    8.    2.  ]\n",
            " [ 1.7   0.4  10.    0.9   6.    1.6   0.75  2.    0.9  17.    1.1   0.\n",
            "   3.    0.95 12.    1.3   0.75  2.5   0.5  14.   15.    5.  ]\n",
            " [ 1.7   0.4  10.    0.9   6.    1.6   0.75  2.    0.9  17.    1.1   0.\n",
            "   3.    0.95 12.    1.3   0.75  2.5   0.5  14.    8.   20.  ]\n",
            " [ 1.9   0.65 12.    0.9   8.    1.9   0.65  2.    0.75 15.    1.1   0.2\n",
            "   5.    0.85 14.    1.1   0.65  4.5   0.6  17.   20.   10.  ]]\n",
            "[[1]\n",
            " [0]\n",
            " [1]\n",
            " [0]\n",
            " [1]\n",
            " [1]\n",
            " [2]\n",
            " [0]\n",
            " [1]]\n",
            "[[ 1.9   0.65 12.    0.9   8.    1.9   0.65  2.    0.75 15.    1.1   0.2\n",
            "   5.    0.85 14.    1.1   0.65  4.5   0.6  17.   12.   15.  ]\n",
            " [ 2.    0.2  12.    0.85  5.    2.1   0.4   2.    0.4  10.    1.    0.1\n",
            "   5.    0.9  13.    1.6   0.6   2.5   0.5  15.   11.   10.  ]\n",
            " [ 2.    0.2  12.    0.85  5.    2.1   0.4   2.    0.4  10.    1.    0.1\n",
            "   5.    0.9  13.    1.6   0.6   2.5   0.5  15.   15.    5.  ]]\n"
          ]
        }
      ],
      "source": [
        "input = pd.read_csv(\"dataset1.csv\")\n",
        "output = pd.read_csv(\"output.csv\")\n",
        "input_values = input.to_numpy()[:-3]\n",
        "test_values = input.to_numpy()[-3:]\n",
        "#output_values = [1,0,3,0,1,1]\n",
        "output_values = output.to_numpy()[:-3]\n",
        "output_values = np.array(output_values)\n",
        "print(input_values)\n",
        "print(output_values)\n",
        "print(test_values)"
      ]
    },
    {
      "cell_type": "code",
      "execution_count": 13,
      "metadata": {
        "id": "lgtLsAQ7DwJV"
      },
      "outputs": [],
      "source": [
        "model = Sequential()\n",
        "model.add(Dense(22, input_shape=[22]))\n",
        "model.add(Dense(20, activation='sigmoid'))\n",
        "model.add(Dense(15, activation='relu'))\n",
        "model.add(Dense(10, activation='sigmoid'))\n",
        "model.add(Dense(5, activation='relu'))\n",
        "model.add(Dense(2, activation='sigmoid'))\n",
        "model.add(Dense(4, activation='softmax'))"
      ]
    },
    {
      "cell_type": "code",
      "execution_count": 14,
      "metadata": {
        "id": "mUq-qsl8D1br"
      },
      "outputs": [],
      "source": [
        "model.compile(\n",
        "    optimizer='adam',\n",
        "    loss=tf.keras.losses.SparseCategoricalCrossentropy(),\n",
        "    metrics=['accuracy']\n",
        ")"
      ]
    },
    {
      "cell_type": "code",
      "execution_count": 15,
      "metadata": {
        "colab": {
          "base_uri": "https://localhost:8080/",
          "height": 296
        },
        "id": "RocFCSTfD4bL",
        "outputId": "3083ce3c-9ce4-462d-ea41-35756f1354b2"
      },
      "outputs": [
        {
          "data": {
            "text/plain": [
              "[<matplotlib.lines.Line2D at 0x2121e5db5e0>]"
            ]
          },
          "execution_count": 15,
          "metadata": {},
          "output_type": "execute_result"
        },
        {
          "data": {
            "image/png": "[encoded data removed]",
            "text/plain": [
              "<Figure size 432x288 with 1 Axes>"
            ]
          },
          "metadata": {
            "needs_background": "light"
          },
          "output_type": "display_data"
        }
      ],
      "source": [
        "historial = model.fit(input_values, output_values, epochs=1000, verbose=False)\n",
        "plt.xlabel(\"# Epoch\")\n",
        "plt.ylabel(\"Magnitud de perdida\")\n",
        "plt.plot(historial.history[\"loss\"])"
      ]
    },
    {
      "cell_type": "code",
      "execution_count": 16,
      "metadata": {
        "colab": {
          "base_uri": "https://localhost:8080/",
          "height": 296
        },
        "id": "F8Ezf15VNusG",
        "outputId": "6e9c1f45-556b-475f-bec5-62e38bc05aec"
      },
      "outputs": [
        {
          "data": {
            "text/plain": [
              "[<matplotlib.lines.Line2D at 0x2121e645090>]"
            ]
          },
          "execution_count": 16,
          "metadata": {},
          "output_type": "execute_result"
        },
        {
          "data": {
            "image/png": "[encoded data removed]",
            "text/plain": [
              "<Figure size 432x288 with 1 Axes>"
            ]
          },
          "metadata": {
            "needs_background": "light"
          },
          "output_type": "display_data"
        }
      ],
      "source": [
        "plt.xlabel(\"# Epoch\")\n",
        "plt.ylabel(\"Acc\")\n",
        "plt.plot(historial.history[\"accuracy\"])"
      ]
    },
    {
      "cell_type": "code",
      "execution_count": 17,
      "metadata": {
        "colab": {
          "base_uri": "https://localhost:8080/"
        },
        "id": "esVvhzjMcV9f",
        "outputId": "eacff9e7-7a06-432b-ae3a-27418ac71d0d"
      },
      "outputs": [
        {
          "name": "stdout",
          "output_type": "stream",
          "text": [
            "Hagamos una predicción!\n",
            "El resultado es [[0.7199263  0.19069935 0.0681868  0.02118756]\n",
            " [0.13528877 0.6867579  0.13694863 0.04100467]\n",
            " [0.13528877 0.6867579  0.13694863 0.04100467]]\n",
            "la prediccion para el dato de entrenamiento 1 es: Taxi\n",
            "la prediccion para el dato de entrenamiento 2 es: Minibus\n",
            "la prediccion para el dato de entrenamiento 3 es: Minibus\n"
          ]
        }
      ],
      "source": [
        "clases = ['Taxi', \"Minibus\", \"Teleferico\", \"Puma\"]\n",
        "print(\"Hagamos una predicción!\")\n",
        "resultado = model.predict(test_values)\n",
        "print(\"El resultado es \" + str(resultado))\n",
        "aux = 1\n",
        "for i in resultado:\n",
        "    predicted_label = np.argmax(i)\n",
        "    print(\"la prediccion para el dato de entrenamiento \" + str(aux) + \" es: \" + clases[predicted_label])\n",
        "    aux = aux +1"
      ]
    },
    {
      "cell_type": "code",
      "execution_count": null,
      "metadata": {
        "id": "EnkEVAgSOg3D"
      },
      "outputs": [],
      "source": []
    }
  ],
  "metadata": {
    "colab": {
      "collapsed_sections": [],
      "name": "Untitled0.ipynb",
      "provenance": []
    },
    "interpreter": {
      "hash": "369f2c481f4da34e4445cda3fffd2e751bd1c4d706f27375911949ba6bb62e1c"
    },
    "kernelspec": {
      "display_name": "Python 3.10.4 64-bit",
      "language": "python",
      "name": "python3"
    },
    "language_info": {
      "codemirror_mode": {
        "name": "ipython",
        "version": 3
      },
      "file_extension": ".py",
      "mimetype": "text/x-python",
      "name": "python",
      "nbconvert_exporter": "python",
      "pygments_lexer": "ipython3",
      "version": "3.10.4"
    }
  },
  "nbformat": 4,
  "nbformat_minor": 0
}
