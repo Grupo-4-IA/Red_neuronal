{
 "cells": [
  {
   "cell_type": "code",
   "execution_count": 31,
   "metadata": {},
   "outputs": [
    {
     "name": "stdout",
     "output_type": "stream",
     "text": [
      "2.8.0\n"
     ]
    }
   ],
   "source": [
    "import tensorflow as tf\n",
    "from tensorflow.keras.models import Sequential\n",
    "from tensorflow.keras.layers import Dense\n",
    "import numpy as np\n",
    "import matplotlib.pyplot as plt\n",
    "import pandas as pd\n",
    "print(tf.__version__) #version should be at least 1.15.x"
   ]
  },
  {
   "cell_type": "code",
   "execution_count": 32,
   "metadata": {},
   "outputs": [],
   "source": [
    "clases = ['Taxi', \"Minibus\", \"Teleferico\", \"Puma\"]"
   ]
  },
  {
   "cell_type": "code",
   "execution_count": 38,
   "metadata": {},
   "outputs": [
    {
     "name": "stdout",
     "output_type": "stream",
     "text": [
      "[ 3.4   0.6  15.    0.8  15.    3.3   0.85  2.    0.8  25.    1.1   0.35\n",
      "  5.    0.85 22.    3.4   0.75  2.5   0.5  24.   25.    3.  ]\n",
      "[1]\n",
      "[ 1.9   0.65 12.    0.9   8.    1.9   0.65  2.    0.75 15.    1.1   0.2\n",
      "  5.    0.85 14.    1.1   0.65  4.5   0.6  17.   12.   15.  ]\n",
      "[0]\n"
     ]
    }
   ],
   "source": [
    "input = pd.read_csv(\"dataset1.csv\")\n",
    "output = pd.read_csv(\"output.csv\")\n",
    "#aux = np.array([1, 0, 3, 0, 3, 1, 2, 0, 1, 0, 1, 2])\n",
    "train_values = input.to_numpy()[0:-3]\n",
    "train_labels = output.to_numpy()[0:-3]\n",
    "\n",
    "test_values = input.to_numpy()[-3:]\n",
    "test_labels = output.to_numpy()[-3:]\n",
    "\n",
    "print(train_values[0])\n",
    "print(train_labels[0])\n",
    "print(test_values[0])\n",
    "print(test_labels[0])\n"
   ]
  },
  {
   "cell_type": "code",
   "execution_count": 34,
   "metadata": {},
   "outputs": [],
   "source": [
    "model = Sequential()\n",
    "model.add(Dense(22, input_shape=[22]))\n",
    "model.add(Dense(26, activation='relu'))\n",
    "model.add(Dense(26, activation='relu'))\n",
    "model.add(Dense(4, activation='softmax'))\n"
   ]
  },
  {
   "cell_type": "markdown",
   "metadata": {},
   "source": [
    "![prueba](https://d3c33hcgiwev3.cloudfront.net/imageAssetProxy.v1/bn9SyaDIEeav5QpTGIv-Pg_0d06dca3d225f3de8b5a4a7e92254153_Screenshot-2016-11-01-23.48.26.png?expiry=1652486400000&hmac=2vGfNnahx15IZeOWZnh2IkKX1Kswn58Y_w2vlQV3sSY)"
   ]
  },
  {
   "cell_type": "code",
   "execution_count": 35,
   "metadata": {},
   "outputs": [
    {
     "name": "stdout",
     "output_type": "stream",
     "text": [
      "Epoch 1/30\n",
      "1/1 [==============================] - 1s 535ms/step - loss: 8.0854 - accuracy: 0.1111 - val_loss: 6.1147 - val_accuracy: 0.3333\n",
      "Epoch 2/30\n",
      "1/1 [==============================] - 0s 35ms/step - loss: 7.2759 - accuracy: 0.1111 - val_loss: 5.6118 - val_accuracy: 0.3333\n",
      "Epoch 3/30\n",
      "1/1 [==============================] - 0s 34ms/step - loss: 6.5362 - accuracy: 0.1111 - val_loss: 5.1536 - val_accuracy: 0.3333\n",
      "Epoch 4/30\n",
      "1/1 [==============================] - 0s 34ms/step - loss: 5.8839 - accuracy: 0.1111 - val_loss: 4.7532 - val_accuracy: 0.3333\n",
      "Epoch 5/30\n",
      "1/1 [==============================] - 0s 28ms/step - loss: 5.2803 - accuracy: 0.1111 - val_loss: 4.3797 - val_accuracy: 0.3333\n",
      "Epoch 6/30\n",
      "1/1 [==============================] - 0s 30ms/step - loss: 4.7547 - accuracy: 0.1111 - val_loss: 4.0426 - val_accuracy: 0.3333\n",
      "Epoch 7/30\n",
      "1/1 [==============================] - 0s 29ms/step - loss: 4.3127 - accuracy: 0.0000e+00 - val_loss: 3.7437 - val_accuracy: 0.0000e+00\n",
      "Epoch 8/30\n",
      "1/1 [==============================] - 0s 34ms/step - loss: 3.9253 - accuracy: 0.0000e+00 - val_loss: 3.4811 - val_accuracy: 0.0000e+00\n",
      "Epoch 9/30\n",
      "1/1 [==============================] - 0s 33ms/step - loss: 3.5635 - accuracy: 0.0000e+00 - val_loss: 3.2265 - val_accuracy: 0.0000e+00\n",
      "Epoch 10/30\n",
      "1/1 [==============================] - 0s 30ms/step - loss: 3.2338 - accuracy: 0.1111 - val_loss: 2.9557 - val_accuracy: 0.0000e+00\n",
      "Epoch 11/30\n",
      "1/1 [==============================] - 0s 30ms/step - loss: 2.9421 - accuracy: 0.1111 - val_loss: 2.7016 - val_accuracy: 0.0000e+00\n",
      "Epoch 12/30\n",
      "1/1 [==============================] - 0s 29ms/step - loss: 2.7032 - accuracy: 0.3333 - val_loss: 2.4746 - val_accuracy: 0.3333\n",
      "Epoch 13/30\n",
      "1/1 [==============================] - 0s 58ms/step - loss: 2.4874 - accuracy: 0.3333 - val_loss: 2.2906 - val_accuracy: 0.3333\n",
      "Epoch 14/30\n",
      "1/1 [==============================] - 0s 24ms/step - loss: 2.2823 - accuracy: 0.4444 - val_loss: 2.1516 - val_accuracy: 0.3333\n",
      "Epoch 15/30\n",
      "1/1 [==============================] - 0s 30ms/step - loss: 2.0995 - accuracy: 0.5556 - val_loss: 2.0227 - val_accuracy: 0.3333\n",
      "Epoch 16/30\n",
      "1/1 [==============================] - 0s 28ms/step - loss: 1.9333 - accuracy: 0.5556 - val_loss: 1.9105 - val_accuracy: 0.3333\n",
      "Epoch 17/30\n",
      "1/1 [==============================] - 0s 26ms/step - loss: 1.7706 - accuracy: 0.5556 - val_loss: 1.8133 - val_accuracy: 0.3333\n",
      "Epoch 18/30\n",
      "1/1 [==============================] - 0s 25ms/step - loss: 1.6126 - accuracy: 0.5556 - val_loss: 1.7250 - val_accuracy: 0.3333\n",
      "Epoch 19/30\n",
      "1/1 [==============================] - 0s 28ms/step - loss: 1.4597 - accuracy: 0.5556 - val_loss: 1.6287 - val_accuracy: 0.3333\n",
      "Epoch 20/30\n",
      "1/1 [==============================] - 0s 28ms/step - loss: 1.3117 - accuracy: 0.5556 - val_loss: 1.5361 - val_accuracy: 0.3333\n",
      "Epoch 21/30\n",
      "1/1 [==============================] - 0s 26ms/step - loss: 1.1583 - accuracy: 0.5556 - val_loss: 1.4388 - val_accuracy: 0.3333\n",
      "Epoch 22/30\n",
      "1/1 [==============================] - 0s 28ms/step - loss: 1.0113 - accuracy: 0.6667 - val_loss: 1.3450 - val_accuracy: 0.3333\n",
      "Epoch 23/30\n",
      "1/1 [==============================] - 0s 33ms/step - loss: 0.8734 - accuracy: 0.6667 - val_loss: 1.2771 - val_accuracy: 0.3333\n",
      "Epoch 24/30\n",
      "1/1 [==============================] - 0s 35ms/step - loss: 0.7543 - accuracy: 0.7778 - val_loss: 1.2306 - val_accuracy: 0.3333\n",
      "Epoch 25/30\n",
      "1/1 [==============================] - 0s 139ms/step - loss: 0.6593 - accuracy: 0.7778 - val_loss: 1.1915 - val_accuracy: 0.6667\n",
      "Epoch 26/30\n",
      "1/1 [==============================] - 0s 64ms/step - loss: 0.5811 - accuracy: 0.7778 - val_loss: 1.1642 - val_accuracy: 0.6667\n",
      "Epoch 27/30\n",
      "1/1 [==============================] - 0s 33ms/step - loss: 0.5223 - accuracy: 0.8889 - val_loss: 1.1452 - val_accuracy: 0.6667\n",
      "Epoch 28/30\n",
      "1/1 [==============================] - 0s 36ms/step - loss: 0.4831 - accuracy: 0.8889 - val_loss: 1.1345 - val_accuracy: 0.6667\n",
      "Epoch 29/30\n",
      "1/1 [==============================] - 0s 35ms/step - loss: 0.4556 - accuracy: 0.8889 - val_loss: 1.1384 - val_accuracy: 0.6667\n",
      "Epoch 30/30\n",
      "1/1 [==============================] - 0s 37ms/step - loss: 0.4393 - accuracy: 0.8889 - val_loss: 1.1461 - val_accuracy: 0.6667\n",
      "WARNING:tensorflow:6 out of the last 6 calls to <function Model.make_predict_function.<locals>.predict_function at 0x0000021D799BB880> triggered tf.function retracing. Tracing is expensive and the excessive number of tracings could be due to (1) creating @tf.function repeatedly in a loop, (2) passing tensors with different shapes, (3) passing Python objects instead of tensors. For (1), please define your @tf.function outside of the loop. For (2), @tf.function has experimental_relax_shapes=True option that relaxes argument shapes that can avoid unnecessary retracing. For (3), please refer to https://www.tensorflow.org/guide/function#controlling_retracing and https://www.tensorflow.org/api_docs/python/tf/function for  more details.\n"
     ]
    },
    {
     "data": {
      "image/png": "[encoded data removed]",
      "text/plain": [
       "<Figure size 432x288 with 1 Axes>"
      ]
     },
     "metadata": {
      "needs_background": "light"
     },
     "output_type": "display_data"
    }
   ],
   "source": [
    "model.compile(\n",
    "    optimizer='adam',\n",
    "    loss=tf.keras.losses.SparseCategoricalCrossentropy(),\n",
    "    metrics=['accuracy']\n",
    ")\n",
    "\n",
    "log = model.fit(train_values, \n",
    "                train_labels, \n",
    "                epochs = 30,\n",
    "                validation_data = (test_values, test_labels))\n",
    "\n",
    "# make predictions for test data\n",
    "predictions = model.predict(test_values)\n",
    "\n",
    "# plot accuracy per epoch\n",
    "plt.plot(log.history['accuracy'], label='Training acc')\n",
    "plt.plot(log.history['val_accuracy'], label='Testing acc')\n",
    "plt.xlabel(\"epochs\")\n",
    "plt.ylabel(\"acc\")\n",
    "plt.legend()\n",
    "plt.grid()\n"
   ]
  },
  {
   "cell_type": "code",
   "execution_count": 37,
   "metadata": {},
   "outputs": [
    {
     "name": "stdout",
     "output_type": "stream",
     "text": [
      "[[0.59037036 0.168163   0.15038459 0.09108206]\n",
      " [0.19306988 0.5817876  0.10459334 0.1205492 ]\n",
      " [0.04553621 0.8073803  0.09350013 0.05358333]]\n",
      "la prediccion para el dato de entrenamiento 1 es: Taxi\n",
      "la prediccion para el dato de entrenamiento 2 es: Minibus\n",
      "la prediccion para el dato de entrenamiento 3 es: Minibus\n"
     ]
    }
   ],
   "source": [
    "\n",
    "aux = 1\n",
    "print(predictions)\n",
    "for i in predictions:\n",
    "    predicted_label = np.argmax(i)\n",
    "    print(\"la prediccion para el dato de entrenamiento \" + str(aux) + \" es: \" + clases[predicted_label])\n",
    "    aux = aux +1"
   ]
  }
 ],
 "metadata": {
  "interpreter": {
   "hash": "369f2c481f4da34e4445cda3fffd2e751bd1c4d706f27375911949ba6bb62e1c"
  },
  "kernelspec": {
   "display_name": "Python 3.10.4 64-bit",
   "language": "python",
   "name": "python3"
  },
  "language_info": {
   "codemirror_mode": {
    "name": "ipython",
    "version": 3
   },
   "file_extension": ".py",
   "mimetype": "text/x-python",
   "name": "python",
   "nbconvert_exporter": "python",
   "pygments_lexer": "ipython3",
   "version": "3.10.4"
  },
  "orig_nbformat": 4
 },
 "nbformat": 4,
 "nbformat_minor": 2
}
